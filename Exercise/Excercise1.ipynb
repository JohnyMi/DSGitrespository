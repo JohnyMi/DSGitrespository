{
 "cells": [
  {
   "cell_type": "code",
   "execution_count": null,
   "metadata": {},
   "outputs": [],
   "source": [
    "#Napište program, který požádá uživatele o jakékoliv přirozené číslo N větší než 0 a vypíše všechna čísla od 1 do N na druhou (nápověda: použijte cyklus for)."
   ]
  },
  {
   "cell_type": "code",
   "execution_count": null,
   "metadata": {},
   "outputs": [],
   "source": [
    "number = input(\"Zadej číslo N: \")\n",
    "for i in range(1, int(number) + 1):\n",
    "    print(i**2)"
   ]
  },
  {
   "cell_type": "code",
   "execution_count": 6,
   "metadata": {},
   "outputs": [],
   "source": [
    "number = input(\"Zadej číslo N: \")\n",
    "def my_number(number):\n",
    "    if number.isnumeric():\n",
    "        number = int(number)\n",
    "    else:\n",
    "        print(\"Zadaná hodnota nie je číslo\")\n",
    "        return False\n",
    "\n",
    "    if not number > 0:\n",
    "        print(\"Zadal si záporné číslo\")\n",
    "        return False\n",
    "    else:\n",
    "        for i in range(1, number + 1):\n",
    "            print(i ** 2)"
   ]
  },
  {
   "cell_type": "code",
   "execution_count": 7,
   "metadata": {},
   "outputs": [
    {
     "name": "stdout",
     "output_type": "stream",
     "text": [
      "1\n",
      "4\n",
      "9\n",
      "16\n",
      "25\n"
     ]
    }
   ],
   "source": [
    "my_number(number)"
   ]
  }
 ],
 "metadata": {
  "kernelspec": {
   "display_name": "Python 3",
   "language": "python",
   "name": "python3"
  },
  "language_info": {
   "codemirror_mode": {
    "name": "ipython",
    "version": 3
   },
   "file_extension": ".py",
   "mimetype": "text/x-python",
   "name": "python",
   "nbconvert_exporter": "python",
   "pygments_lexer": "ipython3",
   "version": "3.12.4"
  }
 },
 "nbformat": 4,
 "nbformat_minor": 2
}
