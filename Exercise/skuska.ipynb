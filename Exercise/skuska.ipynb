{
 "cells": [
  {
   "cell_type": "code",
   "execution_count": 2,
   "metadata": {},
   "outputs": [],
   "source": [
    "import pandas as pd\n",
    "import mysql.connector"
   ]
  },
  {
   "cell_type": "code",
   "execution_count": 3,
   "metadata": {},
   "outputs": [],
   "source": [
    "# připojit k databázi - db object pro referenci na připojení\n",
    "db = mysql.connector.connect(\n",
    "  host=\"localhost\", # server - u nás na PC localhost, jinak např. https://svatky.adresa.info/\n",
    "  user=\"root\", # přihlášení\n",
    "  password=\"M0ncouer\",\n",
    "  database=\"vs_zkouska\" # výběr schématu/db -> odpovídá sql: use nase_db;\n",
    ")\n",
    "# cursor -> object, přes který provádím sql příkazy pomocí execute\n",
    "cursor = db.cursor()"
   ]
  },
  {
   "cell_type": "code",
   "execution_count": 4,
   "metadata": {},
   "outputs": [],
   "source": [
    "sql = f\"show columns from predmet;\"\n",
    "cursor.execute(sql)\n",
    "vysledok = cursor.fetchall()"
   ]
  },
  {
   "cell_type": "code",
   "execution_count": 5,
   "metadata": {},
   "outputs": [
    {
     "data": {
      "text/plain": [
       "[('idpredmet', 'int', 'NO', 'PRI', None, 'auto_increment'),\n",
       " ('nazev', 'varchar(45)', 'YES', '', None, ''),\n",
       " ('obor', 'varchar(45)', 'YES', '', None, ''),\n",
       " ('ucitel_iducitel', 'int', 'NO', 'MUL', None, '')]"
      ]
     },
     "execution_count": 5,
     "metadata": {},
     "output_type": "execute_result"
    }
   ],
   "source": [
    "vysledok"
   ]
  },
  {
   "cell_type": "code",
   "execution_count": 6,
   "metadata": {},
   "outputs": [],
   "source": [
    "#Naplniť tabulky dátami\n",
    "from faker import Faker\n",
    "from random import randint"
   ]
  },
  {
   "cell_type": "code",
   "execution_count": null,
   "metadata": {},
   "outputs": [],
   "source": [
    "\"\"\"\n",
    "fake = Faker()\n",
    "kolko = 100\n",
    "ludia = []\n",
    "for i in range(kolko):\n",
    "    full_name = fake.name()\n",
    "    meno = full_name.split(\" \")[0]\n",
    "    priezvisko = full_name.split(\" \")[-1]\n",
    "    vek = randint(19, 28)\n",
    "    ludia.append([meno, priezvisko, vek])\n",
    "\"\"\""
   ]
  },
  {
   "cell_type": "code",
   "execution_count": 7,
   "metadata": {},
   "outputs": [],
   "source": [
    "def generator_ludi(pocet, vek_od=18, vek_do=28):\n",
    "    \"\"\"\n",
    "    vezme na vstupu počet lidí k vygenerování a vrátí list, kde jednotlivé prvky jsou listy se 3 hodnotami\n",
    "    a to jméno, příjmení a věk\n",
    "    \"\"\"\n",
    "    # z knihovny faker vytvoř generátor náhodných lidí\n",
    "    fake = Faker()\n",
    "    # list pro ukládání lidí\n",
    "    ludia = []\n",
    "    # zopakuj pocet krát generování člověka\n",
    "    for i in range(pocet):\n",
    "        # dej mi plné jméno náhodného člověka\n",
    "        full_name = fake.name()\n",
    "        # plné jméno je ve formátu 'meno priezvisko' -> rozděl text podle mezery, kdy první hodnota je jméno a druhá příjmení\n",
    "        meno = full_name.split(\" \")[0]\n",
    "        priezvisko = full_name.split(\" \")[-1]\n",
    "        # vygeneruj náhodný vek\n",
    "        vek = randint(vek_od, vek_do)\n",
    "        # přidej do listu lidé všechny informace jako list\n",
    "        ludia.append([meno, priezvisko, vek])\n",
    "    return ludia"
   ]
  },
  {
   "cell_type": "code",
   "execution_count": 7,
   "metadata": {},
   "outputs": [
    {
     "data": {
      "text/plain": [
       "[['Mrs.', 'Bryan', 23],\n",
       " ['Megan', 'Parker', 39],\n",
       " ['Kathleen', 'Torres', 45],\n",
       " ['Tracy', 'Williams', 29],\n",
       " ['Natasha', 'Cisneros', 28],\n",
       " ['Richard', 'Baxter', 36],\n",
       " ['Amy', 'Snyder', 29],\n",
       " ['Sharon', 'Vaughn', 36],\n",
       " ['Heather', 'Norris', 37],\n",
       " ['Victor', 'Blankenship', 24]]"
      ]
     },
     "execution_count": 7,
     "metadata": {},
     "output_type": "execute_result"
    }
   ],
   "source": [
    "generator_ludi(10,18,45)"
   ]
  },
  {
   "cell_type": "code",
   "execution_count": 8,
   "metadata": {},
   "outputs": [
    {
     "name": "stdout",
     "output_type": "stream",
     "text": [
      "Úspěch\n"
     ]
    }
   ],
   "source": [
    "studenti = tuple(generator_ludi(100))\n",
    "\n",
    "sql = \"INSERT INTO student (jmeno, prijmeni, vek) VALUES \"\n",
    "\n",
    "# constructing sql statment with multiple row values\n",
    "for row in studenti:\n",
    "    sql += \"('{}','{}','{}'),\".format(row[0], row[1], row[2])\n",
    "\n",
    "sql = sql[:-1]\n",
    "\n",
    "try:\n",
    "  cursor.execute(sql)\n",
    "  db.commit()\n",
    "  print(\"Úspěch\")\n",
    "except Exception as error:\n",
    "  print(f\"Error: {error}\")"
   ]
  },
  {
   "cell_type": "code",
   "execution_count": null,
   "metadata": {},
   "outputs": [],
   "source": [
    "studenti"
   ]
  },
  {
   "cell_type": "code",
   "execution_count": 11,
   "metadata": {},
   "outputs": [
    {
     "name": "stdout",
     "output_type": "stream",
     "text": [
      "Úspěch\n"
     ]
    }
   ],
   "source": [
    "ucitele = tuple(generator_ludi(10, 25, 80))\n",
    "\n",
    "sql = \"INSERT INTO ucitel (jmeno, prijmeni, vek) VALUES \"\n",
    "\n",
    "# constructing sql statment with multiple row values\n",
    "for row in ucitele:\n",
    "    sql += \"('{}','{}','{}'),\".format(row[0], row[1], row[2])\n",
    "\n",
    "sql = sql[:-1]\n",
    "\n",
    "try:\n",
    "  cursor.execute(sql)\n",
    "  db.commit()\n",
    "  print(\"Úspěch\")\n",
    "except Exception as error:\n",
    "  print(f\"Error: {error}\")"
   ]
  },
  {
   "cell_type": "code",
   "execution_count": 24,
   "metadata": {},
   "outputs": [],
   "source": [
    "def zobraz_studentov(cursor):\n",
    "    sql1 = f\"select * from student;\"\n",
    "    cursor.execute(sql1)\n",
    "    return cursor.fetchall()"
   ]
  },
  {
   "cell_type": "code",
   "execution_count": 31,
   "metadata": {},
   "outputs": [],
   "source": [
    "sql2 = \"DESCRIBE student;\"\n",
    "cursor.execute(sql2)\n",
    "info_stlpce = cursor.fetchall()\n",
    "#extrakcia pomocou list comprehension\n",
    "nazvy_stlpcov = [col[0]for col in info_stlpce]"
   ]
  },
  {
   "cell_type": "code",
   "execution_count": 35,
   "metadata": {},
   "outputs": [],
   "source": [
    "data = zobraz_studentov(cursor)"
   ]
  },
  {
   "cell_type": "code",
   "execution_count": 36,
   "metadata": {},
   "outputs": [],
   "source": [
    "df_studenti = pd.DataFrame.from_records(data, columns=nazvy_stlpcov)"
   ]
  },
  {
   "cell_type": "code",
   "execution_count": 37,
   "metadata": {},
   "outputs": [
    {
     "data": {
      "text/html": [
       "<div>\n",
       "<style scoped>\n",
       "    .dataframe tbody tr th:only-of-type {\n",
       "        vertical-align: middle;\n",
       "    }\n",
       "\n",
       "    .dataframe tbody tr th {\n",
       "        vertical-align: top;\n",
       "    }\n",
       "\n",
       "    .dataframe thead th {\n",
       "        text-align: right;\n",
       "    }\n",
       "</style>\n",
       "<table border=\"1\" class=\"dataframe\">\n",
       "  <thead>\n",
       "    <tr style=\"text-align: right;\">\n",
       "      <th></th>\n",
       "      <th>idstudent</th>\n",
       "      <th>jmeno</th>\n",
       "      <th>prijmeni</th>\n",
       "      <th>vek</th>\n",
       "    </tr>\n",
       "  </thead>\n",
       "  <tbody>\n",
       "    <tr>\n",
       "      <th>0</th>\n",
       "      <td>104</td>\n",
       "      <td>Kevin</td>\n",
       "      <td>Lozano</td>\n",
       "      <td>21</td>\n",
       "    </tr>\n",
       "    <tr>\n",
       "      <th>1</th>\n",
       "      <td>105</td>\n",
       "      <td>Kyle</td>\n",
       "      <td>Hernandez</td>\n",
       "      <td>23</td>\n",
       "    </tr>\n",
       "    <tr>\n",
       "      <th>2</th>\n",
       "      <td>106</td>\n",
       "      <td>Jennifer</td>\n",
       "      <td>Davis</td>\n",
       "      <td>18</td>\n",
       "    </tr>\n",
       "    <tr>\n",
       "      <th>3</th>\n",
       "      <td>107</td>\n",
       "      <td>Kayla</td>\n",
       "      <td>Estes</td>\n",
       "      <td>24</td>\n",
       "    </tr>\n",
       "    <tr>\n",
       "      <th>4</th>\n",
       "      <td>108</td>\n",
       "      <td>Trevor</td>\n",
       "      <td>Thompson</td>\n",
       "      <td>18</td>\n",
       "    </tr>\n",
       "    <tr>\n",
       "      <th>...</th>\n",
       "      <td>...</td>\n",
       "      <td>...</td>\n",
       "      <td>...</td>\n",
       "      <td>...</td>\n",
       "    </tr>\n",
       "    <tr>\n",
       "      <th>95</th>\n",
       "      <td>199</td>\n",
       "      <td>Anthony</td>\n",
       "      <td>Weber</td>\n",
       "      <td>27</td>\n",
       "    </tr>\n",
       "    <tr>\n",
       "      <th>96</th>\n",
       "      <td>200</td>\n",
       "      <td>Keith</td>\n",
       "      <td>Jenkins</td>\n",
       "      <td>26</td>\n",
       "    </tr>\n",
       "    <tr>\n",
       "      <th>97</th>\n",
       "      <td>201</td>\n",
       "      <td>Cathy</td>\n",
       "      <td>Sampson</td>\n",
       "      <td>23</td>\n",
       "    </tr>\n",
       "    <tr>\n",
       "      <th>98</th>\n",
       "      <td>202</td>\n",
       "      <td>Thomas</td>\n",
       "      <td>Winters</td>\n",
       "      <td>24</td>\n",
       "    </tr>\n",
       "    <tr>\n",
       "      <th>99</th>\n",
       "      <td>203</td>\n",
       "      <td>Lucas</td>\n",
       "      <td>Johns</td>\n",
       "      <td>22</td>\n",
       "    </tr>\n",
       "  </tbody>\n",
       "</table>\n",
       "<p>100 rows × 4 columns</p>\n",
       "</div>"
      ],
      "text/plain": [
       "    idstudent     jmeno   prijmeni  vek\n",
       "0         104     Kevin     Lozano   21\n",
       "1         105      Kyle  Hernandez   23\n",
       "2         106  Jennifer      Davis   18\n",
       "3         107     Kayla      Estes   24\n",
       "4         108    Trevor   Thompson   18\n",
       "..        ...       ...        ...  ...\n",
       "95        199   Anthony      Weber   27\n",
       "96        200     Keith    Jenkins   26\n",
       "97        201     Cathy    Sampson   23\n",
       "98        202    Thomas    Winters   24\n",
       "99        203     Lucas      Johns   22\n",
       "\n",
       "[100 rows x 4 columns]"
      ]
     },
     "execution_count": 37,
     "metadata": {},
     "output_type": "execute_result"
    }
   ],
   "source": [
    "df_studenti"
   ]
  },
  {
   "cell_type": "code",
   "execution_count": 33,
   "metadata": {},
   "outputs": [],
   "source": [
    "while cursor.nextset():\n",
    "    pass"
   ]
  },
  {
   "cell_type": "code",
   "execution_count": 43,
   "metadata": {},
   "outputs": [],
   "source": [
    "mistnosti = []\n",
    "for i in range(3):\n",
    "    zeme = input(\"Zadej zemi: \")\n",
    "    mesto = input(\"Zadej město: \")\n",
    "    adresa = input(\"Zadej adresu: \")\n",
    "    ucebna = input(\"Zadej název učebny: \")\n",
    "    mistnosti.append((zeme, mesto, adresa, ucebna))"
   ]
  },
  {
   "cell_type": "code",
   "execution_count": 44,
   "metadata": {},
   "outputs": [
    {
     "data": {
      "text/plain": [
       "[('SK', 'Bratislava', 'Lafranconi', '3DC'),\n",
       " ('SK', 'Žilina', 'Hlavná', '8C0'),\n",
       " ('SK', 'Ružomberok', 'Hanulu', 'C5C')]"
      ]
     },
     "execution_count": 44,
     "metadata": {},
     "output_type": "execute_result"
    }
   ],
   "source": [
    "mistnosti"
   ]
  },
  {
   "cell_type": "code",
   "execution_count": 45,
   "metadata": {},
   "outputs": [
    {
     "name": "stdout",
     "output_type": "stream",
     "text": [
      "Úspěch\n"
     ]
    }
   ],
   "source": [
    "sql = \"INSERT INTO misto (zeme, mesto, adresa, ucebna) VALUES \"\n",
    "\n",
    "# constructing sql statment with multiple row values\n",
    "for row in mistnosti:\n",
    "    sql += \"('{}','{}','{}','{}'),\".format(row[0], row[1], row[2], row[3])\n",
    "\n",
    "sql = sql[:-1]\n",
    "\n",
    "try:\n",
    "  cursor.execute(sql)\n",
    "  db.commit()\n",
    "  print(\"Úspěch\")\n",
    "except Exception as error:\n",
    "  print(f\"Error: {error}\")"
   ]
  },
  {
   "cell_type": "code",
   "execution_count": 40,
   "metadata": {},
   "outputs": [],
   "source": [
    "sql = f\"select iducitel from ucitel;\"\n",
    "cursor.execute(sql)\n",
    "vysledek = cursor.fetchall()\n",
    "\n",
    "ucitelska_id = [prvek[0] for prvek in vysledek]"
   ]
  },
  {
   "cell_type": "code",
   "execution_count": 41,
   "metadata": {},
   "outputs": [
    {
     "data": {
      "text/plain": [
       "[1, 2, 3, 4, 5, 6, 7, 8, 9, 10]"
      ]
     },
     "execution_count": 41,
     "metadata": {},
     "output_type": "execute_result"
    }
   ],
   "source": [
    "ucitelska_id"
   ]
  },
  {
   "cell_type": "code",
   "execution_count": 46,
   "metadata": {},
   "outputs": [],
   "source": [
    "from random import choice"
   ]
  },
  {
   "cell_type": "code",
   "execution_count": 59,
   "metadata": {},
   "outputs": [],
   "source": [
    "predmety = []\n",
    "for i in range(3):\n",
    "    nazev = input(\"Zadej nazev: \")\n",
    "    obor = input(\"Zadej obor: \")\n",
    "    ucitel_iducitel = choice(ucitelska_id)\n",
    "    predmety.append((nazev, obor, ucitel_iducitel))"
   ]
  },
  {
   "cell_type": "code",
   "execution_count": 60,
   "metadata": {},
   "outputs": [
    {
     "name": "stdout",
     "output_type": "stream",
     "text": [
      "Úspěch\n"
     ]
    }
   ],
   "source": [
    "sql = \"INSERT INTO predmet (nazev, obor, ucitel_iducitel) VALUES \"\n",
    "\n",
    "# constructing sql statment with multiple row values\n",
    "for row in predmety:\n",
    "    sql += \"('{}','{}','{}'),\".format(row[0], row[1], row[2])\n",
    "\n",
    "sql = sql[:-1]\n",
    "\n",
    "try:\n",
    "  cursor.execute(sql)\n",
    "  db.commit()\n",
    "  print(\"Úspěch\")\n",
    "except Exception as error:\n",
    "  print(f\"Error: {error}\") "
   ]
  },
  {
   "cell_type": "code",
   "execution_count": 49,
   "metadata": {},
   "outputs": [],
   "source": [
    "sql = f\"select iducitel from ucitel;\"\n",
    "cursor.execute(sql)\n",
    "vysledek = cursor.fetchall()\n",
    "\n",
    "ucitel_id = [prvek[0] for prvek in vysledek]\n",
    "\n",
    "sql = f\"select idstudent from student;\"\n",
    "cursor.execute(sql)\n",
    "vysledek = cursor.fetchall()\n",
    "\n",
    "student_id = [prvek[0] for prvek in vysledek]\n",
    "\n",
    "sql = f\"select idpredmet from predmet;\"\n",
    "cursor.execute(sql)\n",
    "vysledek = cursor.fetchall()\n",
    "\n",
    "predmet_id = [prvek[0] for prvek in vysledek]\n",
    "\n",
    "sql = f\"select idmisto from misto;\"\n",
    "cursor.execute(sql)\n",
    "vysledek = cursor.fetchall()\n",
    "\n",
    "misto_id = [prvek[0] for prvek in vysledek]"
   ]
  },
  {
   "cell_type": "code",
   "execution_count": 61,
   "metadata": {},
   "outputs": [],
   "source": [
    "zkousky = []\n",
    "for i in range(3):\n",
    "    termin = input(\"Zadej termín ve formátu '2024-10-05': \")\n",
    "    online = input(\"Bude online: \")\n",
    "    ucitel_iducitel = choice(ucitel_id)\n",
    "    misto_idmisto = choice(misto_id)\n",
    "    student_idstudent = choice(student_id)\n",
    "    predmet_idpredmet = choice(predmet_id)\n",
    "    zkousky.append((termin, online, ucitel_iducitel, misto_idmisto, student_idstudent, predmet_idpredmet))"
   ]
  },
  {
   "cell_type": "code",
   "execution_count": 62,
   "metadata": {},
   "outputs": [
    {
     "name": "stdout",
     "output_type": "stream",
     "text": [
      "Úspěch\n"
     ]
    }
   ],
   "source": [
    "sql = \"INSERT INTO zkouska (termin, online, ucitel_iducitel, misto_idmisto, student_idstudent, predmet_idpredmet) VALUES \"\n",
    "\n",
    "# constructing sql statment with multiple row values\n",
    "for row in zkousky:\n",
    "    sql += \"('{}','{}','{}','{}','{}','{}'),\".format(row[0], row[1], row[2], row[3], row[4], row[5])\n",
    "\n",
    "sql = sql[:-1]\n",
    "\n",
    "try:\n",
    "  cursor.execute(sql)\n",
    "  db.commit()\n",
    "  print(\"Úspěch\")\n",
    "except Exception as error:\n",
    "  print(f\"Error: {error}\")"
   ]
  },
  {
   "cell_type": "code",
   "execution_count": 54,
   "metadata": {},
   "outputs": [],
   "source": [
    "sql = f\"select idzkouska from zkouska;\"\n",
    "cursor.execute(sql)\n",
    "vysledek = cursor.fetchall()\n",
    "\n",
    "zkouska_id = [prvek[0] for prvek in vysledek]"
   ]
  },
  {
   "cell_type": "code",
   "execution_count": 63,
   "metadata": {},
   "outputs": [],
   "source": [
    "vysledky = []\n",
    "for i in range(3):\n",
    "    prospel = input(\"Zadej prospel: \")\n",
    "    body = input(\"Zadej body: \")\n",
    "    komentar = input(\"Zadej komentar: \")\n",
    "    zkouska_idzkouska = choice(zkouska_id)\n",
    "    vysledky.append((prospel, body, komentar, zkouska_idzkouska))"
   ]
  },
  {
   "cell_type": "code",
   "execution_count": 64,
   "metadata": {},
   "outputs": [
    {
     "name": "stdout",
     "output_type": "stream",
     "text": [
      "Úspěch\n"
     ]
    }
   ],
   "source": [
    "sql = \"INSERT INTO vysledek (prospel, body, komentar, zkouska_idzkouska) VALUES \"\n",
    "\n",
    "# constructing sql statment with multiple row values\n",
    "for row in vysledky:\n",
    "    sql += \"('{}','{}','{}','{}'),\".format(row[0], row[1], row[2], row[3])\n",
    "\n",
    "sql = sql[:-1]\n",
    "\n",
    "try:\n",
    "  cursor.execute(sql)\n",
    "  db.commit()\n",
    "  print(\"Úspěch\")\n",
    "except Exception as error:\n",
    "  print(f\"Error: {error}\")"
   ]
  },
  {
   "cell_type": "code",
   "execution_count": null,
   "metadata": {},
   "outputs": [],
   "source": []
  }
 ],
 "metadata": {
  "kernelspec": {
   "display_name": "Python 3",
   "language": "python",
   "name": "python3"
  },
  "language_info": {
   "codemirror_mode": {
    "name": "ipython",
    "version": 3
   },
   "file_extension": ".py",
   "mimetype": "text/x-python",
   "name": "python",
   "nbconvert_exporter": "python",
   "pygments_lexer": "ipython3",
   "version": "3.12.4"
  }
 },
 "nbformat": 4,
 "nbformat_minor": 2
}
