{
 "cells": [
  {
   "cell_type": "code",
   "execution_count": 1,
   "metadata": {},
   "outputs": [],
   "source": [
    "import mysql.connector\n",
    "import pandas as pd"
   ]
  },
  {
   "cell_type": "code",
   "execution_count": 77,
   "metadata": {},
   "outputs": [],
   "source": [
    "#Napojenie mojej databázy\n",
    "db = mysql.connector.connect(\n",
    "  host=\"localhost\", #Server\n",
    "  user=\"root\", #užívatel\n",
    "  password=\"M0ncouer\",\n",
    "  database=\"nase_db\") #výber databázy\n",
    "\n",
    "#coursor - objekt, cez ktorý robím sql príkazy pomocou execute\n",
    "mycursor = db.cursor()"
   ]
  },
  {
   "cell_type": "code",
   "execution_count": null,
   "metadata": {},
   "outputs": [],
   "source": [
    "#Samostatný príkaz bez funkcie na pridanie do tabuľky SQL\n",
    "#mycursor = db.cursor()\n",
    "#mycursor.execute(\"INSERT INTO mesta (nazov, populacia, zaplavy) VALUES ('Olomouc', 500000, 0);\")\n",
    "#db.commit()"
   ]
  },
  {
   "cell_type": "code",
   "execution_count": null,
   "metadata": {},
   "outputs": [],
   "source": [
    "#Uzivate zadá data\n",
    "nazov = input(\"Zadaj mesto: \")\n",
    "populacia = input(\"Zadaj populáciu: \")\n",
    "zaplavy = input(\"Zadaj záplavu: \")"
   ]
  },
  {
   "cell_type": "code",
   "execution_count": 78,
   "metadata": {},
   "outputs": [],
   "source": [
    "#Funckia pre query na zapísanie dát do tabulky - doladiť vo workbench SQL\n",
    "def pridej_mesto (db, mycursor, nazov, populacia, zaplavy):\n",
    "    sql = f\"INSERT INTO mesta (nazov, populacia, zaplavy) VALUES ('{nazov}', {populacia}, {zaplavy});\"\n",
    "    try:\n",
    "        mycursor.execute(sql)\n",
    "        db.commit()\n",
    "        return True \n",
    "    except:\n",
    "        return False"
   ]
  },
  {
   "cell_type": "code",
   "execution_count": 57,
   "metadata": {},
   "outputs": [
    {
     "data": {
      "text/plain": [
       "True"
      ]
     },
     "execution_count": 57,
     "metadata": {},
     "output_type": "execute_result"
    }
   ],
   "source": [
    "#Execute funckie na zápis dát\n",
    "pridej_mesto(db,mycursor, nazov, populacia, zaplavy)"
   ]
  },
  {
   "cell_type": "code",
   "execution_count": 79,
   "metadata": {},
   "outputs": [],
   "source": [
    "def zobraz_mesta(mycursor):\n",
    "    sql1 = f\"select * from mesta;\"\n",
    "    mycursor.execute(sql1)\n",
    "    return mycursor.fetchall()"
   ]
  },
  {
   "cell_type": "code",
   "execution_count": 83,
   "metadata": {},
   "outputs": [],
   "source": [
    "sql2 = \"DESCRIBE mesta;\"\n",
    "mycursor.execute(sql2)\n",
    "info_stlpce = mycursor.fetchall()\n",
    "#extrakcia pomocou list comprehension\n",
    "nazvy_stlpcov = [col[0]for col in info_stlpce]"
   ]
  },
  {
   "cell_type": "code",
   "execution_count": 80,
   "metadata": {},
   "outputs": [],
   "source": [
    "vysledok = zobraz_mesta(mycursor)"
   ]
  },
  {
   "cell_type": "code",
   "execution_count": 84,
   "metadata": {},
   "outputs": [
    {
     "data": {
      "text/html": [
       "<div>\n",
       "<style scoped>\n",
       "    .dataframe tbody tr th:only-of-type {\n",
       "        vertical-align: middle;\n",
       "    }\n",
       "\n",
       "    .dataframe tbody tr th {\n",
       "        vertical-align: top;\n",
       "    }\n",
       "\n",
       "    .dataframe thead th {\n",
       "        text-align: right;\n",
       "    }\n",
       "</style>\n",
       "<table border=\"1\" class=\"dataframe\">\n",
       "  <thead>\n",
       "    <tr style=\"text-align: right;\">\n",
       "      <th></th>\n",
       "      <th>id</th>\n",
       "      <th>nazov</th>\n",
       "      <th>populacia</th>\n",
       "      <th>Zaplavy</th>\n",
       "    </tr>\n",
       "  </thead>\n",
       "  <tbody>\n",
       "    <tr>\n",
       "      <th>0</th>\n",
       "      <td>None</td>\n",
       "      <td>Test</td>\n",
       "      <td>100000</td>\n",
       "      <td>0</td>\n",
       "    </tr>\n",
       "    <tr>\n",
       "      <th>1</th>\n",
       "      <td>None</td>\n",
       "      <td>Test</td>\n",
       "      <td>100000</td>\n",
       "      <td>0</td>\n",
       "    </tr>\n",
       "    <tr>\n",
       "      <th>2</th>\n",
       "      <td>None</td>\n",
       "      <td>Olomouc</td>\n",
       "      <td>500000</td>\n",
       "      <td>0</td>\n",
       "    </tr>\n",
       "    <tr>\n",
       "      <th>3</th>\n",
       "      <td>None</td>\n",
       "      <td>Praha</td>\n",
       "      <td>120000</td>\n",
       "      <td>0</td>\n",
       "    </tr>\n",
       "  </tbody>\n",
       "</table>\n",
       "</div>"
      ],
      "text/plain": [
       "     id    nazov  populacia  Zaplavy\n",
       "0  None     Test     100000        0\n",
       "1  None     Test     100000        0\n",
       "2  None  Olomouc     500000        0\n",
       "3  None    Praha     120000        0"
      ]
     },
     "execution_count": 84,
     "metadata": {},
     "output_type": "execute_result"
    }
   ],
   "source": [
    "pd.DataFrame.from_records(vysledok, columns=nazvy_stlpcov)"
   ]
  },
  {
   "cell_type": "code",
   "execution_count": 2,
   "metadata": {},
   "outputs": [],
   "source": [
    "#Napojenie mojej databázy\n",
    "db = mysql.connector.connect(\n",
    "  host=\"localhost\", #Server\n",
    "  user=\"root\", #užívatel\n",
    "  password=\"M0ncouer\",\n",
    "  database=\"car_rent\") #výber databázy\n",
    "\n",
    "#coursor - objekt, cez ktorý robím sql príkazy pomocou execute\n",
    "mycursor = db.cursor()"
   ]
  },
  {
   "cell_type": "code",
   "execution_count": 3,
   "metadata": {},
   "outputs": [],
   "source": [
    "sql_prikaz = \"\"\"select cars.producer, cars.model, cars.horse_power, avg(cars.price_per_day) as \"Average_day_price\"\n",
    "FROM bookings\n",
    "INNER JOIN cars ON\n",
    "bookings.car_id=cars.car_id\n",
    "group by cars.car_id\n",
    "having horse_power<135 and Average_day_price > 150;\"\"\""
   ]
  },
  {
   "cell_type": "code",
   "execution_count": 6,
   "metadata": {},
   "outputs": [
    {
     "name": "stderr",
     "output_type": "stream",
     "text": [
      "C:\\Users\\LOLSCROL\\AppData\\Local\\Temp\\ipykernel_13368\\888535849.py:1: UserWarning: pandas only supports SQLAlchemy connectable (engine/connection) or database string URI or sqlite3 DBAPI2 connection. Other DBAPI2 objects are not tested. Please consider using SQLAlchemy.\n",
      "  pd.read_sql(sql_prikaz,db)\n"
     ]
    },
    {
     "data": {
      "text/html": [
       "<div>\n",
       "<style scoped>\n",
       "    .dataframe tbody tr th:only-of-type {\n",
       "        vertical-align: middle;\n",
       "    }\n",
       "\n",
       "    .dataframe tbody tr th {\n",
       "        vertical-align: top;\n",
       "    }\n",
       "\n",
       "    .dataframe thead th {\n",
       "        text-align: right;\n",
       "    }\n",
       "</style>\n",
       "<table border=\"1\" class=\"dataframe\">\n",
       "  <thead>\n",
       "    <tr style=\"text-align: right;\">\n",
       "      <th></th>\n",
       "      <th>producer</th>\n",
       "      <th>model</th>\n",
       "      <th>horse_power</th>\n",
       "      <th>Average_day_price</th>\n",
       "    </tr>\n",
       "  </thead>\n",
       "  <tbody>\n",
       "    <tr>\n",
       "      <th>0</th>\n",
       "      <td>Fiat</td>\n",
       "      <td>Panda</td>\n",
       "      <td>77</td>\n",
       "      <td>190.0</td>\n",
       "    </tr>\n",
       "    <tr>\n",
       "      <th>1</th>\n",
       "      <td>Honda</td>\n",
       "      <td>Civic</td>\n",
       "      <td>130</td>\n",
       "      <td>360.0</td>\n",
       "    </tr>\n",
       "  </tbody>\n",
       "</table>\n",
       "</div>"
      ],
      "text/plain": [
       "  producer  model  horse_power  Average_day_price\n",
       "0     Fiat  Panda           77              190.0\n",
       "1    Honda  Civic          130              360.0"
      ]
     },
     "execution_count": 6,
     "metadata": {},
     "output_type": "execute_result"
    }
   ],
   "source": [
    "pd.read_sql(sql_prikaz,db)"
   ]
  }
 ],
 "metadata": {
  "kernelspec": {
   "display_name": "Python 3",
   "language": "python",
   "name": "python3"
  },
  "language_info": {
   "codemirror_mode": {
    "name": "ipython",
    "version": 3
   },
   "file_extension": ".py",
   "mimetype": "text/x-python",
   "name": "python",
   "nbconvert_exporter": "python",
   "pygments_lexer": "ipython3",
   "version": "3.12.4"
  }
 },
 "nbformat": 4,
 "nbformat_minor": 2
}
