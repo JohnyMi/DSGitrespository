{
 "cells": [
  {
   "cell_type": "code",
   "execution_count": 76,
   "metadata": {},
   "outputs": [],
   "source": [
    "import mysql.connector\n",
    "import pandas as pd"
   ]
  },
  {
   "cell_type": "code",
   "execution_count": 77,
   "metadata": {},
   "outputs": [],
   "source": [
    "#Napojenie mojej databázy\n",
    "db = mysql.connector.connect(\n",
    "  host=\"localhost\", #Server\n",
    "  user=\"root\", #užívatel\n",
    "  password=\"M0ncouer\",\n",
    "  database=\"nase_db\") #výber databázy\n",
    "\n",
    "#coursor - objekt, cez ktorý robím sql príkazy pomocou execute\n",
    "mycursor = db.cursor()"
   ]
  },
  {
   "cell_type": "code",
   "execution_count": null,
   "metadata": {},
   "outputs": [],
   "source": [
    "#Samostatný príkaz bez funkcie na pridanie do tabuľky SQL\n",
    "#mycursor = db.cursor()\n",
    "#mycursor.execute(\"INSERT INTO mesta (nazov, populacia, zaplavy) VALUES ('Olomouc', 500000, 0);\")\n",
    "#db.commit()"
   ]
  },
  {
   "cell_type": "code",
   "execution_count": null,
   "metadata": {},
   "outputs": [],
   "source": [
    "#Uzivate zadá data\n",
    "nazov = input(\"Zadaj mesto: \")\n",
    "populacia = input(\"Zadaj populáciu: \")\n",
    "zaplavy = input(\"Zadaj záplavu: \")"
   ]
  },
  {
   "cell_type": "code",
   "execution_count": 78,
   "metadata": {},
   "outputs": [],
   "source": [
    "#Funckia pre query na zapísanie dát do tabulky - doladiť vo workbench SQL\n",
    "def pridej_mesto (db, mycursor, nazov, populacia, zaplavy):\n",
    "    sql = f\"INSERT INTO mesta (nazov, populacia, zaplavy) VALUES ('{nazov}', {populacia}, {zaplavy});\"\n",
    "    try:\n",
    "        mycursor.execute(sql)\n",
    "        db.commit()\n",
    "        return True \n",
    "    except:\n",
    "        return False"
   ]
  },
  {
   "cell_type": "code",
   "execution_count": 57,
   "metadata": {},
   "outputs": [
    {
     "data": {
      "text/plain": [
       "True"
      ]
     },
     "execution_count": 57,
     "metadata": {},
     "output_type": "execute_result"
    }
   ],
   "source": [
    "#Execute funckie na zápis dát\n",
    "pridej_mesto(db,mycursor, nazov, populacia, zaplavy)"
   ]
  },
  {
   "cell_type": "code",
   "execution_count": 79,
   "metadata": {},
   "outputs": [],
   "source": [
    "def zobraz_mesta(mycursor):\n",
    "    sql1 = f\"select * from mesta;\"\n",
    "    mycursor.execute(sql1)\n",
    "    return mycursor.fetchall()"
   ]
  },
  {
   "cell_type": "code",
   "execution_count": 83,
   "metadata": {},
   "outputs": [],
   "source": [
    "sql2 = \"DESCRIBE mesta;\"\n",
    "mycursor.execute(sql2)\n",
    "info_stlpce = mycursor.fetchall()\n",
    "#extrakcia pomocou list comprehension\n",
    "nazvy_stlpcov = [col[0]for col in info_stlpce]"
   ]
  },
  {
   "cell_type": "code",
   "execution_count": 80,
   "metadata": {},
   "outputs": [],
   "source": [
    "vysledok = zobraz_mesta(mycursor)"
   ]
  },
  {
   "cell_type": "code",
   "execution_count": 84,
   "metadata": {},
   "outputs": [
    {
     "data": {
      "text/html": [
       "<div>\n",
       "<style scoped>\n",
       "    .dataframe tbody tr th:only-of-type {\n",
       "        vertical-align: middle;\n",
       "    }\n",
       "\n",
       "    .dataframe tbody tr th {\n",
       "        vertical-align: top;\n",
       "    }\n",
       "\n",
       "    .dataframe thead th {\n",
       "        text-align: right;\n",
       "    }\n",
       "</style>\n",
       "<table border=\"1\" class=\"dataframe\">\n",
       "  <thead>\n",
       "    <tr style=\"text-align: right;\">\n",
       "      <th></th>\n",
       "      <th>id</th>\n",
       "      <th>nazov</th>\n",
       "      <th>populacia</th>\n",
       "      <th>Zaplavy</th>\n",
       "    </tr>\n",
       "  </thead>\n",
       "  <tbody>\n",
       "    <tr>\n",
       "      <th>0</th>\n",
       "      <td>None</td>\n",
       "      <td>Test</td>\n",
       "      <td>100000</td>\n",
       "      <td>0</td>\n",
       "    </tr>\n",
       "    <tr>\n",
       "      <th>1</th>\n",
       "      <td>None</td>\n",
       "      <td>Test</td>\n",
       "      <td>100000</td>\n",
       "      <td>0</td>\n",
       "    </tr>\n",
       "    <tr>\n",
       "      <th>2</th>\n",
       "      <td>None</td>\n",
       "      <td>Olomouc</td>\n",
       "      <td>500000</td>\n",
       "      <td>0</td>\n",
       "    </tr>\n",
       "    <tr>\n",
       "      <th>3</th>\n",
       "      <td>None</td>\n",
       "      <td>Praha</td>\n",
       "      <td>120000</td>\n",
       "      <td>0</td>\n",
       "    </tr>\n",
       "  </tbody>\n",
       "</table>\n",
       "</div>"
      ],
      "text/plain": [
       "     id    nazov  populacia  Zaplavy\n",
       "0  None     Test     100000        0\n",
       "1  None     Test     100000        0\n",
       "2  None  Olomouc     500000        0\n",
       "3  None    Praha     120000        0"
      ]
     },
     "execution_count": 84,
     "metadata": {},
     "output_type": "execute_result"
    }
   ],
   "source": [
    "pd.DataFrame.from_records(vysledok, columns=nazvy_stlpcov)"
   ]
  }
 ],
 "metadata": {
  "kernelspec": {
   "display_name": "Python 3",
   "language": "python",
   "name": "python3"
  },
  "language_info": {
   "codemirror_mode": {
    "name": "ipython",
    "version": 3
   },
   "file_extension": ".py",
   "mimetype": "text/x-python",
   "name": "python",
   "nbconvert_exporter": "python",
   "pygments_lexer": "ipython3",
   "version": "3.12.4"
  }
 },
 "nbformat": 4,
 "nbformat_minor": 2
}
